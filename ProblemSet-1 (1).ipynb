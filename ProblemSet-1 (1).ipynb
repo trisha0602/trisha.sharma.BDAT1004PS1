{
 "cells": [
  {
   "cell_type": "markdown",
   "id": "cf4cbb2d",
   "metadata": {},
   "source": [
    "# Question 1 C#\n",
    "\n",
    "What data type is each of the following?"
   ]
  },
  {
   "cell_type": "markdown",
   "id": "7cc95b9f",
   "metadata": {},
   "source": [
    "5 : int\n",
    "5.0 : float\n",
    "5 > 1 : boolean\n",
    "'5': char\n",
    "5 * 2 : int\n",
    "'5' * 2 : \n",
    "'5' + '2' : \n",
    "5 / 2 : double\n",
    "5 % 2 : int\n",
    "{5, 2, 1} : array\n",
    "5 == 3 : boolean\n",
    "Pi (the number) : Float\n"
   ]
  },
  {
   "cell_type": "markdown",
   "id": "e4290a27",
   "metadata": {},
   "source": [
    "# Question 2 C#\n",
    "\n",
    "Write (and evaluate) C# expressions that answer these questions:\n",
    "a. How many letters are there in 'Supercalifragilisticexpialidocious'?"
   ]
  },
  {
   "cell_type": "code",
   "execution_count": null,
   "id": "46f0c909",
   "metadata": {},
   "outputs": [],
   "source": [
    "using System;\n",
    "public class String\n",
    "{\n",
    "    public static void Main()\n",
    "    {\n",
    "        string str=\"Supercalifragilisticexpialidocious\";\n",
    "        int l;\n",
    "        l = str.Length;\n",
    "        Console.Write(\"Number of letter in the string are : {0}\\n\", l);\n",
    "    }\n",
    "}"
   ]
  },
  {
   "cell_type": "markdown",
   "id": "31a5ab52",
   "metadata": {},
   "source": [
    "<img src=\"C:/Users/sharm/OneDrive/Pictures/Data Programming - PS 1/PS1-question2(a).PNG\">"
   ]
  },
  {
   "cell_type": "markdown",
   "id": "09376e47",
   "metadata": {},
   "source": [
    "b. Does 'Supercalifragilisticexpialidocious' contain 'ice' as a substring? "
   ]
  },
  {
   "cell_type": "code",
   "execution_count": null,
   "id": "e29e6dab",
   "metadata": {},
   "outputs": [],
   "source": [
    "using System;\n",
    "public class String\n",
    "{\n",
    "    public static void Main()\n",
    "    {\n",
    "         string str1 = \"Supercalifragilisticexpialidocious\", str2 = \"ice\";\n",
    "        bool res;\n",
    "        res = str1.Contains(str2);\n",
    "        if (res)\n",
    "            Console.Write(\"The substring \" + str2 + \" is in the string \" + str1);\n",
    "        else\n",
    "            Console.Write(\"The substring \" + str2 + \" is not in the string \" + str1);\n",
    "        Console.Write(\"\\n \");\n",
    "    }\n",
    "}"
   ]
  },
  {
   "cell_type": "markdown",
   "id": "cbe13144",
   "metadata": {},
   "source": [
    "<img src=\"C:/Users/sharm/OneDrive/Pictures/Data Programming - PS 1/PS1-question2(b).PNG\">"
   ]
  },
  {
   "cell_type": "markdown",
   "id": "fd4078ac",
   "metadata": {},
   "source": [
    "c. Which of the following words is the longest:\n",
    "Supercalifragilisticexpialidocious, Honorificabilitudinitatibus, or\n",
    "Bababadalgharaghtakamminarronnkonn?"
   ]
  },
  {
   "cell_type": "code",
   "execution_count": null,
   "id": "6a9d5f78",
   "metadata": {},
   "outputs": [],
   "source": [
    "using System;\n",
    "using System.Linq;\n",
    "public class String\n",
    "{\n",
    "    public static void Main()\n",
    "    {\n",
    "        // check longest string\n",
    "        string[] arr = new string[] { \"Supercalifragilisticexpialidocious\", \"Honorificabilitudinitatibus\", \"Bababadalgharaghtakamminarronnkonn\" };\n",
    "\n",
    "        var longest = arr.Where(s => s.Length == arr.Max(m => m.Length)).First();\n",
    "        Console.WriteLine(\"Longest string is:\" + longest);\n",
    "    }\n",
    "}"
   ]
  },
  {
   "cell_type": "markdown",
   "id": "97547a8b",
   "metadata": {},
   "source": [
    "<img src=\"C:/Users/sharm/OneDrive/Pictures/Data Programming - PS 1/PS1-question2(c).PNG\">"
   ]
  },
  {
   "cell_type": "markdown",
   "id": "16bf7ff4",
   "metadata": {},
   "source": [
    "# Question 3  C#\n",
    "\n",
    "Implement function triangleArea(a,b,c) that takes as input the lengths of the 3\n",
    "sides of a triangle and returns the area of the triangle. By Heron's formula, the area\n",
    "of a triangle with side lengths a, b, and c is\n",
    "s(s - a)(s -b)(s -c)\n",
    ", where\n",
    "s = (a+b+c)/2."
   ]
  },
  {
   "cell_type": "code",
   "execution_count": null,
   "id": "94e46879",
   "metadata": {},
   "outputs": [],
   "source": [
    "using System;\n",
    "public class TriangleArea\n",
    "{\n",
    "public static void Main()\n",
    "{\n",
    "Console.Write(\"Enter length of first side:\");\n",
    "double side1 = Convert.ToDouble(Console.ReadLine());\n",
    "Console.Write(\"Enter length of second side:\");\n",
    "double side2 = Convert.ToDouble(Console.ReadLine());\n",
    "Console.Write(\"Enter length of third side:\");\n",
    "double side3 = Convert.ToDouble(Console.ReadLine());\n",
    "double semiperimeter = (side1 + side2 + side3) / 2;\n",
    "double Area = Math.Sqrt(semiperimeter * (semiperimeter - side1) * (semiperimeter - side2) * (semiperimeter - side3));\n",
    "Console.Write(\"Area of a Triangle = \" + Area);\n",
    "Console.ReadKey();\n",
    "}\n",
    "}"
   ]
  },
  {
   "cell_type": "markdown",
   "id": "a6902a29",
   "metadata": {},
   "source": [
    "<img src=\"C:/Users/sharm/OneDrive/Pictures/Data Programming - PS 1/PS1-question3.PNG\">"
   ]
  },
  {
   "cell_type": "markdown",
   "id": "6909e36c",
   "metadata": {},
   "source": [
    "# Question 4  C#\n",
    "\n",
    "Write a program in C# Sharp to separate odd and even integers in separate arrays.\n",
    "Go to the editor\n",
    "Test Data :\n",
    "Input the number of elements to be stored in the array :5\n",
    "Input 5 elements in the array :\n",
    "element - 0 : 25\n",
    "element - 1 : 47\n",
    "element - 2 : 42\n",
    "element - 3 : 56\n",
    "element - 4 : 32\n",
    "Expected Output:\n",
    "The Even elements are:\n",
    "42 56 32\n",
    "The Odd elements are :\n",
    "25 47"
   ]
  },
  {
   "cell_type": "code",
   "execution_count": null,
   "id": "d9aa3ff7",
   "metadata": {},
   "outputs": [],
   "source": [
    "using System;\n",
    "\n",
    "public class EvenOdd\n",
    "{\n",
    "    public static void Main()\n",
    "    {\n",
    "        int[] array1 = new int[10];\n",
    "        int[] array2 = new int[10];\n",
    "        int[] array3 = new int[10];\n",
    "        int i, j = 0, k = 0, n;\n",
    "\n",
    "        Console.Write(\"Input the number of elements to be stored in the array :\");\n",
    "        n = Convert.ToInt32(Console.ReadLine());\n",
    "\n",
    "        Console.Write(\"Input {0} elements in the array :\\n\", n);\n",
    "        for (i = 0; i < n; i++)\n",
    "        {\n",
    "            Console.Write(\"element - {0} : \", i);\n",
    "            array1[i] = Convert.ToInt32(Console.ReadLine());\n",
    "        }\n",
    "\n",
    "        for (i = 0; i < n; i++)\n",
    "        {\n",
    "            if (array1[i] % 2 == 0)\n",
    "            {\n",
    "                array2[j] = array1[i];\n",
    "                j++;\n",
    "            }\n",
    "            else\n",
    "            {\n",
    "                array3[k] = array1[i];\n",
    "                k++;\n",
    "            }\n",
    "        }\n",
    "\n",
    "        Console.Write(\"\\nThe Even elements are : \\n\");\n",
    "        for (i = 0; i < j; i++)\n",
    "        {\n",
    "            Console.Write(\"{0} \", array2[i]);\n",
    "        }\n",
    "\n",
    "        Console.Write(\"\\nThe Odd elements are :\\n\");\n",
    "        for (i = 0; i < k; i++)\n",
    "        {\n",
    "            Console.Write(\"{0} \", array3[i]);\n",
    "        }\n",
    "        //Console.Write(\"\\n\\n\");\n",
    "    }\n",
    "}"
   ]
  },
  {
   "cell_type": "markdown",
   "id": "0e0e3c24",
   "metadata": {},
   "source": [
    "<img src=\"C:/Users/sharm/OneDrive/Pictures/Data Programming - PS 1/PS1-question4.PNG\">"
   ]
  },
  {
   "cell_type": "markdown",
   "id": "b96feaaf",
   "metadata": {},
   "source": [
    "# Question 5  C#\n",
    "\n",
    "a. Write a function inside(x,y,x1,y1,x2,y2) that returns True or False\n",
    "depending on whether the point (x,y) lies in the rectangle with lower left\n",
    "corner (x1,y1) and upper right corner (x2,y2).\n",
    "\n",
    ">>> inside(1,1,0,0,2,3)\n",
    "True\n",
    ">>> inside(-1,-1,0,0,2,3)\n",
    "False\n",
    "\n",
    "b. Use function inside() from part a. to write an expression that tests whether\n",
    "the point (1,1) lies in both of the following rectangles: one with lower left\n",
    "corner (0.3, 0.5) and upper right corner (1.1, 0.7) and the other with lower\n",
    "left corner (0.5, 0.2) and upper right corner (1.1, 2). "
   ]
  },
  {
   "cell_type": "code",
   "execution_count": null,
   "id": "9e6b87c2",
   "metadata": {},
   "outputs": [],
   "source": [
    "Sorry, no idea"
   ]
  },
  {
   "cell_type": "markdown",
   "id": "54b06f36",
   "metadata": {},
   "source": [
    "# Question 6 Python\n",
    "\n",
    "You can turn a word into pig-Latin using the following two rules (simplified):\n",
    "• If the word starts with a consonant, move that letter to the end and append\n",
    "'ay'. For example, 'happy' becomes 'appyhay' and 'pencil' becomes 'encilpay'.\n",
    "• If the word starts with a vowel, simply append 'way' to the end of the word.\n",
    "For example, 'enter' becomes 'enterway' and 'other' becomes 'otherway' . For\n",
    "our purposes, there are 5 vowels: a, e, i, o, u (so we count y as a consonant).\n",
    "\n",
    "Write a function pig() that takes a word (i.e., a string) as input and returns its pig\u0002Latin form. Your function should still work if the input word contains upper case\n",
    "characters. Your output should always be lower case however.\n",
    ">>> pig('happy')\n",
    "'appyhay'\n",
    ">>> pig('Enter')\n",
    "'enterway'"
   ]
  },
  {
   "cell_type": "code",
   "execution_count": 1,
   "id": "709a1bd4",
   "metadata": {},
   "outputs": [
    {
     "name": "stdout",
     "output_type": "stream",
     "text": [
      "Enter word to be translated into pig-Latin:\n",
      "happy\n",
      "appyhay\n"
     ]
    }
   ],
   "source": [
    "user_input = input(\"Enter word to be translated into pig-Latin:\\n\")\n",
    "vowels = ['a','e','i','o','u']\n",
    "def translate(user_input):\n",
    "    first = user_input[0]\n",
    "    if first in vowels:\n",
    "        user_input = user_input.lower()\n",
    "        user_input += \"way\"\n",
    "        return user_input\n",
    "    else:\n",
    "        user_input = user_input.lower()\n",
    "        for letter in user_input:\n",
    "            if letter in vowels:\n",
    "                index_value = user_input.index(letter)\n",
    "                break\n",
    "        user_input = user_input[index_value:] +user_input[:index_value]+ \"ay\"\n",
    "        return user_input\n",
    "\n",
    "print(translate(user_input))"
   ]
  },
  {
   "cell_type": "markdown",
   "id": "bfdc0316",
   "metadata": {},
   "source": [
    "# Question 7 Python\n",
    "\n",
    "File bloodtype1.txt records blood-types of patients (A, B, AB, O or OO) at a clinic.\n",
    "Write a function bldcount() that reads the file with name name and reports (i.e.,\n",
    "prints) how many patients there are in each bloodtype."
   ]
  },
  {
   "cell_type": "code",
   "execution_count": 2,
   "id": "ce569ff2",
   "metadata": {},
   "outputs": [
    {
     "name": "stdout",
     "output_type": "stream",
     "text": [
      "AB AB B O A A AB O AB A O O A A A O O O AB O A A A A A AB AB A AB O AB O A O O O AB O AB AB AB A A O \n"
     ]
    }
   ],
   "source": [
    "fileObject = open(\"C:/Users/sharm/OneDrive/bloodtype1.txt\", \"r\")\n",
    "data = fileObject.read()\n",
    "print(data)\n"
   ]
  },
  {
   "cell_type": "markdown",
   "id": "404f76a3",
   "metadata": {},
   "source": [
    "# Question 8 Python\n",
    "\n",
    "Write a function curconv() that takes as input:\n",
    "1. a currency represented using a string (e.g., 'JPY' for the Japanese Yen or\n",
    "'EUR' for the Euro)\n",
    "2. an amount\n",
    "and then converts and returns the amount in US dollars.\n",
    ">>> curconv('EUR', 100)\n",
    "122.96544\n",
    ">>> curconv('JPY', 100)\n",
    "1.241401\n",
    "The currency rates you will need are stored in file currencies.txt:\n",
    "AUD 1.0345157 Australian Dollar\n",
    "CHF 1.0237414 Swiss Franc\n",
    "CNY 0.1550176 Chinese Yuan"
   ]
  },
  {
   "cell_type": "code",
   "execution_count": 4,
   "id": "130812ae",
   "metadata": {},
   "outputs": [
    {
     "name": "stdout",
     "output_type": "stream",
     "text": [
      "enter the unit of currency:INR\n",
      "enter the amount:100\n",
      "1.77643\n"
     ]
    }
   ],
   "source": [
    "def curconv(cname,money):\n",
    "    with open(\"C:/Users/sharm/OneDrive/currencies.txt\") as myFile:\n",
    "        for num, line in enumerate(myFile, 1):\n",
    "            if cname in line:\n",
    "                moneydata=list(line.split())\n",
    "                print(float(money)*float(moneydata[1]))\n",
    "cname = input(\"enter the unit of currency:\")\n",
    "money = input(\"enter the amount:\")\n",
    "\n",
    "curconv(cname,money)"
   ]
  },
  {
   "cell_type": "markdown",
   "id": "45add508",
   "metadata": {},
   "source": [
    "# Question 9 Python\n",
    "\n",
    "Each of the following will cause an exception (an error). Identify what type of\n",
    "exception each will cause"
   ]
  },
  {
   "cell_type": "markdown",
   "id": "1072a0b1",
   "metadata": {},
   "source": [
    "Trying to add incompatible variables, as in\n",
    "adding 6 + ‘a’"
   ]
  },
  {
   "cell_type": "code",
   "execution_count": 6,
   "id": "8cd21404",
   "metadata": {},
   "outputs": [
    {
     "ename": "TypeError",
     "evalue": "unsupported operand type(s) for +: 'int' and 'str'",
     "output_type": "error",
     "traceback": [
      "\u001b[1;31m---------------------------------------------------------------------------\u001b[0m",
      "\u001b[1;31mTypeError\u001b[0m                                 Traceback (most recent call last)",
      "\u001b[1;32m<ipython-input-6-9028d3c07e18>\u001b[0m in \u001b[0;36m<module>\u001b[1;34m\u001b[0m\n\u001b[1;32m----> 1\u001b[1;33m \u001b[0mprint\u001b[0m\u001b[1;33m(\u001b[0m\u001b[1;36m6\u001b[0m \u001b[1;33m+\u001b[0m \u001b[1;34m'a'\u001b[0m\u001b[1;33m)\u001b[0m\u001b[1;33m\u001b[0m\u001b[1;33m\u001b[0m\u001b[0m\n\u001b[0m",
      "\u001b[1;31mTypeError\u001b[0m: unsupported operand type(s) for +: 'int' and 'str'"
     ]
    }
   ],
   "source": [
    "print(6 + 'a')"
   ]
  },
  {
   "cell_type": "markdown",
   "id": "d5efa58d",
   "metadata": {},
   "source": [
    "Referring to the 12th item of a list that has only 10\n",
    "items"
   ]
  },
  {
   "cell_type": "code",
   "execution_count": 7,
   "id": "aa4fcc03",
   "metadata": {},
   "outputs": [
    {
     "ename": "IndexError",
     "evalue": "list index out of range",
     "output_type": "error",
     "traceback": [
      "\u001b[1;31m---------------------------------------------------------------------------\u001b[0m",
      "\u001b[1;31mIndexError\u001b[0m                                Traceback (most recent call last)",
      "\u001b[1;32m<ipython-input-7-e8146ce6dfbd>\u001b[0m in \u001b[0;36m<module>\u001b[1;34m\u001b[0m\n\u001b[0;32m      1\u001b[0m \u001b[0mthislist\u001b[0m \u001b[1;33m=\u001b[0m \u001b[1;33m[\u001b[0m\u001b[1;34m\"India\"\u001b[0m\u001b[1;33m,\u001b[0m \u001b[1;34m\"Canada\"\u001b[0m\u001b[1;33m,\u001b[0m \u001b[1;34m\"London\"\u001b[0m\u001b[1;33m,\u001b[0m \u001b[1;34m\"Africa\"\u001b[0m\u001b[1;33m,\u001b[0m \u001b[1;34m\"Australia\"\u001b[0m \u001b[1;33m,\u001b[0m \u001b[1;34m\"Ireland\"\u001b[0m\u001b[1;33m,\u001b[0m \u001b[1;34m\"Newzealand\"\u001b[0m\u001b[1;33m,\u001b[0m \u001b[1;34m\"Japan\"\u001b[0m \u001b[1;33m,\u001b[0m \u001b[1;34m\"Dubai\"\u001b[0m \u001b[1;33m,\u001b[0m \u001b[1;34m\"Bahrain\"\u001b[0m\u001b[1;33m]\u001b[0m\u001b[1;33m\u001b[0m\u001b[1;33m\u001b[0m\u001b[0m\n\u001b[1;32m----> 2\u001b[1;33m \u001b[0mprint\u001b[0m\u001b[1;33m(\u001b[0m\u001b[0mthislist\u001b[0m\u001b[1;33m[\u001b[0m\u001b[1;36m12\u001b[0m\u001b[1;33m]\u001b[0m\u001b[1;33m)\u001b[0m\u001b[1;33m\u001b[0m\u001b[1;33m\u001b[0m\u001b[0m\n\u001b[0m",
      "\u001b[1;31mIndexError\u001b[0m: list index out of range"
     ]
    }
   ],
   "source": [
    "thislist = [\"India\", \"Canada\", \"London\", \"Africa\", \"Australia\" , \"Ireland\", \"Newzealand\", \"Japan\" , \"Dubai\" , \"Bahrain\"]\n",
    "print(thislist[12])"
   ]
  },
  {
   "cell_type": "markdown",
   "id": "d7a3e0f4",
   "metadata": {},
   "source": [
    "Using a value that is out of range for a function’s\n",
    "input, such as calling math.sqrt(-1.0)"
   ]
  },
  {
   "cell_type": "code",
   "execution_count": 8,
   "id": "31d40381",
   "metadata": {},
   "outputs": [
    {
     "ename": "ValueError",
     "evalue": "math domain error",
     "output_type": "error",
     "traceback": [
      "\u001b[1;31m---------------------------------------------------------------------------\u001b[0m",
      "\u001b[1;31mValueError\u001b[0m                                Traceback (most recent call last)",
      "\u001b[1;32m<ipython-input-8-ad421410d693>\u001b[0m in \u001b[0;36m<module>\u001b[1;34m\u001b[0m\n\u001b[0;32m      1\u001b[0m \u001b[1;32mimport\u001b[0m \u001b[0mmath\u001b[0m \u001b[1;31m# This will import math module\u001b[0m\u001b[1;33m\u001b[0m\u001b[1;33m\u001b[0m\u001b[0m\n\u001b[0;32m      2\u001b[0m \u001b[1;33m\u001b[0m\u001b[0m\n\u001b[1;32m----> 3\u001b[1;33m \u001b[0mprint\u001b[0m \u001b[1;33m(\u001b[0m\u001b[1;34m\"math.sqrt(-1.0) : \"\u001b[0m\u001b[1;33m,\u001b[0m \u001b[0mmath\u001b[0m\u001b[1;33m.\u001b[0m\u001b[0msqrt\u001b[0m\u001b[1;33m(\u001b[0m\u001b[1;33m-\u001b[0m\u001b[1;36m1.0\u001b[0m\u001b[1;33m)\u001b[0m\u001b[1;33m)\u001b[0m\u001b[1;33m\u001b[0m\u001b[1;33m\u001b[0m\u001b[0m\n\u001b[0m",
      "\u001b[1;31mValueError\u001b[0m: math domain error"
     ]
    }
   ],
   "source": [
    "import math # This will import math module\n",
    "\n",
    "print (\"math.sqrt(-1.0) : \", math.sqrt(-1.0))"
   ]
  },
  {
   "cell_type": "markdown",
   "id": "350b7a04",
   "metadata": {},
   "source": [
    "Using an undeclared variable, such as print(x)\n",
    "when x has not been defined "
   ]
  },
  {
   "cell_type": "code",
   "execution_count": 9,
   "id": "59900bd3",
   "metadata": {},
   "outputs": [
    {
     "ename": "NameError",
     "evalue": "name 'x' is not defined",
     "output_type": "error",
     "traceback": [
      "\u001b[1;31m---------------------------------------------------------------------------\u001b[0m",
      "\u001b[1;31mNameError\u001b[0m                                 Traceback (most recent call last)",
      "\u001b[1;32m<ipython-input-9-fc17d851ef81>\u001b[0m in \u001b[0;36m<module>\u001b[1;34m\u001b[0m\n\u001b[1;32m----> 1\u001b[1;33m \u001b[0mprint\u001b[0m\u001b[1;33m(\u001b[0m\u001b[0mx\u001b[0m\u001b[1;33m)\u001b[0m\u001b[1;33m\u001b[0m\u001b[1;33m\u001b[0m\u001b[0m\n\u001b[0m",
      "\u001b[1;31mNameError\u001b[0m: name 'x' is not defined"
     ]
    }
   ],
   "source": [
    "print(x)"
   ]
  },
  {
   "cell_type": "markdown",
   "id": "5bcab482",
   "metadata": {},
   "source": [
    "Trying to open a file that does not exist, such as\n",
    "mistyping the file name or looking in the wrong\n",
    "directory. "
   ]
  },
  {
   "cell_type": "code",
   "execution_count": 11,
   "id": "7e770360",
   "metadata": {},
   "outputs": [
    {
     "ename": "FileNotFoundError",
     "evalue": "[Errno 2] No such file or directory: 'bloodtype1.txt'",
     "output_type": "error",
     "traceback": [
      "\u001b[1;31m---------------------------------------------------------------------------\u001b[0m",
      "\u001b[1;31mFileNotFoundError\u001b[0m                         Traceback (most recent call last)",
      "\u001b[1;32m<ipython-input-11-42a160da0704>\u001b[0m in \u001b[0;36m<module>\u001b[1;34m\u001b[0m\n\u001b[1;32m----> 1\u001b[1;33m \u001b[0mfileObject\u001b[0m \u001b[1;33m=\u001b[0m \u001b[0mopen\u001b[0m\u001b[1;33m(\u001b[0m\u001b[1;34m\"bloodtype1.txt\"\u001b[0m\u001b[1;33m,\u001b[0m \u001b[1;34m\"r\"\u001b[0m\u001b[1;33m)\u001b[0m\u001b[1;33m\u001b[0m\u001b[1;33m\u001b[0m\u001b[0m\n\u001b[0m\u001b[0;32m      2\u001b[0m \u001b[0mdata\u001b[0m \u001b[1;33m=\u001b[0m \u001b[0mfileObject\u001b[0m\u001b[1;33m.\u001b[0m\u001b[0mread\u001b[0m\u001b[1;33m(\u001b[0m\u001b[1;33m)\u001b[0m\u001b[1;33m\u001b[0m\u001b[1;33m\u001b[0m\u001b[0m\n\u001b[0;32m      3\u001b[0m \u001b[0mprint\u001b[0m\u001b[1;33m(\u001b[0m\u001b[0mdata\u001b[0m\u001b[1;33m)\u001b[0m\u001b[1;33m\u001b[0m\u001b[1;33m\u001b[0m\u001b[0m\n",
      "\u001b[1;31mFileNotFoundError\u001b[0m: [Errno 2] No such file or directory: 'bloodtype1.txt'"
     ]
    }
   ],
   "source": [
    "fileObject = open(\"bloodtype1.txt\", \"r\")\n",
    "data = fileObject.read()\n",
    "print(data)"
   ]
  },
  {
   "cell_type": "markdown",
   "id": "f0c0472e",
   "metadata": {},
   "source": [
    "# Question 10 Python\n",
    "\n",
    "Encryption is the process of hiding the meaning of a text by substituting letters in the\n",
    "message with other letters, according to some system. If the process is successful, no\n",
    "one but the intended recipient can understand the encrypted message. Cryptanalysis\n",
    "refers to attempts to undo the encryption, even if some details of the encryption are\n",
    "unknown (for example, if an encrypted message has been intercepted). The first step\n",
    "of cryptanalysis is often to build up a table of letter frequencies in the encrypted text.\n",
    "Assume that the string letters is already defined as\n",
    "'abcdefghijklmnopqrstuvwxyz'. Write a function called frequencies()\n",
    "that takes a string as its only parameter, and returns a list of integers, showing the\n",
    "number of times each character appears in the text. Your function may ignore any\n",
    "characters that are not in letters.\n",
    "\n",
    ">>> frequencies('The quick red fox got bored and went home.')\n",
    "[1, 1, 1, 3, 5, 1, 1, 2, 1, 0, 1, 0, 1, 2, 4, 0, 1, 2, 0, 2,\n",
    "1, 0, 1, 1, 0, 0]\n",
    "\n",
    ">>> frequencies('apple')"
   ]
  },
  {
   "cell_type": "code",
   "execution_count": 5,
   "id": "7b5ef57b",
   "metadata": {},
   "outputs": [
    {
     "name": "stdout",
     "output_type": "stream",
     "text": [
      "Enter the string: apple\n",
      "a,1\n",
      "p,2\n",
      "l,1\n",
      "e,1\n"
     ]
    }
   ],
   "source": [
    "string=input(\"Enter the string \")\n",
    "str1=list(string)\n",
    "strlist=[]\n",
    "for j in str1:\n",
    "    if j not in strlist:\n",
    "       strlist.append(j)\n",
    "       count=0\n",
    "       for i in range(len(str1)):\n",
    "         if j==str1[i]:\n",
    "           count+=1\n",
    "       print(\"{},{}\".format(j,count))"
   ]
  }
 ],
 "metadata": {
  "kernelspec": {
   "display_name": "Python 3",
   "language": "python",
   "name": "python3"
  },
  "language_info": {
   "codemirror_mode": {
    "name": "ipython",
    "version": 3
   },
   "file_extension": ".py",
   "mimetype": "text/x-python",
   "name": "python",
   "nbconvert_exporter": "python",
   "pygments_lexer": "ipython3",
   "version": "3.8.8"
  }
 },
 "nbformat": 4,
 "nbformat_minor": 5
}
